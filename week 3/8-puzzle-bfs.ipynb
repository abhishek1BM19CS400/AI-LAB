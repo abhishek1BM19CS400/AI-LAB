{
 "cells": [
  {
   "cell_type": "code",
   "execution_count": 1,
   "metadata": {},
   "outputs": [],
   "source": [
    "def bfs(src,target):\n",
    "    queue = [src]\n",
    "    visited_states = set()\n",
    "    while len(queue):\n",
    "        state = queue.pop(0)\n",
    "        displayGrid(state)\n",
    "        if state == target:\n",
    "            print(f\"Success\")\n",
    "            return\n",
    "        for move in possible_moves(state, visited_states):\n",
    "            if tuple(move) not in queue and tuple(move) not in visited_states:\n",
    "                queue.append(move)\n",
    "                visited_states.add(tuple(state))\n",
    "    print(\"Fail\")\n"
   ]
  },
  {
   "cell_type": "code",
   "execution_count": 2,
   "metadata": {},
   "outputs": [],
   "source": [
    "def displayGrid(src):\n",
    "    state = src.copy()\n",
    "    state[state.index(-1)] = ' '\n",
    "    print(state[0], state[1], state[2])\n",
    "    print(state[3], state[4], state[5])\n",
    "    print(state[6], state[7], state[8])\n",
    "    print()"
   ]
  },
  {
   "cell_type": "code",
   "execution_count": 3,
   "metadata": {},
   "outputs": [],
   "source": [
    "def possible_moves(state, visited_states): \n",
    "    b = state.index(-1)  \n",
    "    d = []\n",
    "\n",
    "    if b not in [0,1,2]: \n",
    "        d += 'u'\n",
    "    if b not in [6,7,8]:\n",
    "        d += 'd'\n",
    "    if b not in [2,5,8]: \n",
    "        d += 'r'\n",
    "    if b not in [0,3,6]: \n",
    "        d += 'l'\n",
    "\n",
    "    pos_moves = []\n",
    "    for move in d:\n",
    "        pos_moves.append(gen(state,move,b))\n",
    "        \n",
    "    return [move for move in pos_moves if tuple(move) not in visited_states]"
   ]
  },
  {
   "cell_type": "code",
   "execution_count": 4,
   "metadata": {},
   "outputs": [],
   "source": [
    "def gen(state, m, b): \n",
    "    temp = state.copy()                              \n",
    "\n",
    "    if m == 'u':\n",
    "        temp[b-3], temp[b] = temp[b], temp[b-3]\n",
    "    if m == 'd':\n",
    "        temp[b+3], temp[b] = temp[b], temp[b+3]\n",
    "    if m == 'r':\n",
    "        temp[b+1], temp[b] = temp[b], temp[b+1]\n",
    "    if m == 'l':\n",
    "        temp[b-1], temp[b] = temp[b], temp[b-1]\n",
    "\n",
    "    return temp"
   ]
  },
  {
   "cell_type": "code",
   "execution_count": 5,
   "metadata": {},
   "outputs": [
    {
     "name": "stdout",
     "output_type": "stream",
     "text": [
      "1 2 3\n",
      "  4 5\n",
      "6 7 8\n",
      "\n",
      "  2 3\n",
      "1 4 5\n",
      "6 7 8\n",
      "\n",
      "1 2 3\n",
      "6 4 5\n",
      "  7 8\n",
      "\n",
      "Success\n"
     ]
    }
   ],
   "source": [
    "src    = [ 1, 2, 3,\n",
    "          -1, 4, 5,\n",
    "           6, 7, 8 ]\n",
    "target = [ 1, 2, 3,\n",
    "           6, 4, 5,\n",
    "          -1, 7, 8 ]\n",
    "\n",
    "bfs(src, target)"
   ]
  },
  {
   "cell_type": "code",
   "execution_count": 6,
   "metadata": {},
   "outputs": [
    {
     "name": "stdout",
     "output_type": "stream",
     "text": [
      "1 2 3\n",
      "  4 5\n",
      "6 7 8\n",
      "\n",
      "  2 3\n",
      "1 4 5\n",
      "6 7 8\n",
      "\n",
      "1 2 3\n",
      "6 4 5\n",
      "  7 8\n",
      "\n",
      "1 2 3\n",
      "4   5\n",
      "6 7 8\n",
      "\n",
      "2   3\n",
      "1 4 5\n",
      "6 7 8\n",
      "\n",
      "1 2 3\n",
      "6 4 5\n",
      "7   8\n",
      "\n",
      "1   3\n",
      "4 2 5\n",
      "6 7 8\n",
      "\n",
      "1 2 3\n",
      "4 7 5\n",
      "6   8\n",
      "\n",
      "1 2 3\n",
      "4 5  \n",
      "6 7 8\n",
      "\n",
      "Success\n"
     ]
    }
   ],
   "source": [
    "src    = [ 1, 2, 3,\n",
    "          -1, 4, 5,\n",
    "           6, 7, 8 ]\n",
    "target = [ 1, 2, 3,\n",
    "           4, 5,-1, \n",
    "           6, 7, 8 ]         \n",
    "\n",
    "bfs(src, target)"
   ]
  },
  {
   "cell_type": "code",
   "execution_count": null,
   "metadata": {},
   "outputs": [],
   "source": []
  }
 ],
 "metadata": {
  "kernelspec": {
   "display_name": "Python 3",
   "language": "python",
   "name": "python3"
  },
  "language_info": {
   "codemirror_mode": {
    "name": "ipython",
    "version": 3
   },
   "file_extension": ".py",
   "mimetype": "text/x-python",
   "name": "python",
   "nbconvert_exporter": "python",
   "pygments_lexer": "ipython3",
   "version": "3.8.3"
  }
 },
 "nbformat": 4,
 "nbformat_minor": 4
}
