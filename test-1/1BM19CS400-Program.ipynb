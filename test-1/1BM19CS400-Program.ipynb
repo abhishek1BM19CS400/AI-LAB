{
 "cells": [
  {
   "cell_type": "code",
   "execution_count": 1,
   "metadata": {},
   "outputs": [],
   "source": [
    "import numpy as np \n",
    "import random \n",
    "from time import sleep "
   ]
  },
  {
   "cell_type": "code",
   "execution_count": 2,
   "metadata": {},
   "outputs": [],
   "source": [
    "def create_board(): \n",
    "    return(np.array([[0, 0, 0], \n",
    "                     [0, 0, 0], \n",
    "                     [0, 0, 0]]))"
   ]
  },
  {
   "cell_type": "code",
   "execution_count": 3,
   "metadata": {},
   "outputs": [],
   "source": [
    "def possibilities(board): \n",
    "    l = [] \n",
    "      \n",
    "    for i in range(len(board)): \n",
    "        for j in range(len(board)): \n",
    "              \n",
    "            if board[i][j] == 0: \n",
    "                l.append((i, j)) \n",
    "    return(l)"
   ]
  },
  {
   "cell_type": "code",
   "execution_count": 4,
   "metadata": {},
   "outputs": [],
   "source": [
    "def random_place(board, player): \n",
    "    selection = possibilities(board) \n",
    "    current_loc = random.choice(selection) \n",
    "    board[current_loc] = player \n",
    "    return(board)"
   ]
  },
  {
   "cell_type": "code",
   "execution_count": 5,
   "metadata": {},
   "outputs": [],
   "source": [
    "def row_win(board, player): \n",
    "    for x in range(len(board)): \n",
    "        win = True\n",
    "          \n",
    "        for y in range(len(board)): \n",
    "            if board[x, y] != player: \n",
    "                win = False\n",
    "                continue\n",
    "                  \n",
    "        if win == True: \n",
    "            return(win) \n",
    "    return(win)"
   ]
  },
  {
   "cell_type": "code",
   "execution_count": 6,
   "metadata": {},
   "outputs": [],
   "source": [
    "def col_win(board, player): \n",
    "    for x in range(len(board)): \n",
    "        win = True\n",
    "          \n",
    "        for y in range(len(board)): \n",
    "            if board[y][x] != player: \n",
    "                win = False\n",
    "                continue\n",
    "                  \n",
    "        if win == True: \n",
    "            return(win) \n",
    "    return(win)"
   ]
  },
  {
   "cell_type": "code",
   "execution_count": 7,
   "metadata": {},
   "outputs": [],
   "source": [
    "def diag_win(board, player): \n",
    "    win = True\n",
    "    y = 0\n",
    "    for x in range(len(board)): \n",
    "        if board[x, x] != player: \n",
    "            win = False\n",
    "    if win: \n",
    "        return win \n",
    "    win = True\n",
    "    if win: \n",
    "        for x in range(len(board)): \n",
    "            y = len(board) - 1 - x \n",
    "            if board[x, y] != player: \n",
    "                win = False\n",
    "    return win"
   ]
  },
  {
   "cell_type": "code",
   "execution_count": 8,
   "metadata": {},
   "outputs": [],
   "source": [
    "def evaluate(board): \n",
    "    winner = 0\n",
    "      \n",
    "    for player in [1, 2]: \n",
    "        if (row_win(board, player) or\n",
    "            col_win(board,player) or \n",
    "            diag_win(board,player)): \n",
    "                 \n",
    "            winner = player \n",
    "              \n",
    "    if np.all(board != 0) and winner == 0: \n",
    "        winner = -1\n",
    "    return winner"
   ]
  },
  {
   "cell_type": "code",
   "execution_count": 9,
   "metadata": {},
   "outputs": [],
   "source": [
    "def play_game(): \n",
    "    board, winner, counter = create_board(), 0, 1\n",
    "    print(board) \n",
    "    sleep(2) \n",
    "      \n",
    "    while winner == 0: \n",
    "        for player in [1, 2]: \n",
    "            board = random_place(board, player) \n",
    "            print(\"Board after \" + str(counter) + \" move\") \n",
    "            print(board) \n",
    "            sleep(2) \n",
    "            counter += 1\n",
    "            winner = evaluate(board) \n",
    "            if winner != 0: \n",
    "                break\n",
    "    return(winner)"
   ]
  },
  {
   "cell_type": "code",
   "execution_count": 12,
   "metadata": {},
   "outputs": [
    {
     "name": "stdout",
     "output_type": "stream",
     "text": [
      "[[0 0 0]\n",
      " [0 0 0]\n",
      " [0 0 0]]\n",
      "Board after 1 move\n",
      "[[0 0 0]\n",
      " [0 0 0]\n",
      " [1 0 0]]\n",
      "Board after 2 move\n",
      "[[2 0 0]\n",
      " [0 0 0]\n",
      " [1 0 0]]\n",
      "Board after 3 move\n",
      "[[2 1 0]\n",
      " [0 0 0]\n",
      " [1 0 0]]\n",
      "Board after 4 move\n",
      "[[2 1 0]\n",
      " [0 2 0]\n",
      " [1 0 0]]\n",
      "Board after 5 move\n",
      "[[2 1 0]\n",
      " [0 2 0]\n",
      " [1 1 0]]\n",
      "Board after 6 move\n",
      "[[2 1 2]\n",
      " [0 2 0]\n",
      " [1 1 0]]\n",
      "Board after 7 move\n",
      "[[2 1 2]\n",
      " [0 2 0]\n",
      " [1 1 1]]\n",
      "Winner is: 1\n"
     ]
    }
   ],
   "source": [
    "print(\"Winner is: \" + str(play_game())) "
   ]
  },
  {
   "cell_type": "code",
   "execution_count": null,
   "metadata": {},
   "outputs": [],
   "source": []
  }
 ],
 "metadata": {
  "kernelspec": {
   "display_name": "Python 3",
   "language": "python",
   "name": "python3"
  },
  "language_info": {
   "codemirror_mode": {
    "name": "ipython",
    "version": 3
   },
   "file_extension": ".py",
   "mimetype": "text/x-python",
   "name": "python",
   "nbconvert_exporter": "python",
   "pygments_lexer": "ipython3",
   "version": "3.8.3"
  }
 },
 "nbformat": 4,
 "nbformat_minor": 4
}
